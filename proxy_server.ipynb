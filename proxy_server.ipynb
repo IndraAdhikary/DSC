{
 "cells": [
  {
   "cell_type": "code",
   "execution_count": 1,
   "metadata": {},
   "outputs": [],
   "source": [
    "import socket, sys"
   ]
  },
  {
   "cell_type": "code",
   "execution_count": null,
   "metadata": {},
   "outputs": [],
   "source": []
  },
  {
   "cell_type": "code",
   "execution_count": 9,
   "metadata": {},
   "outputs": [],
   "source": [
    "def __init__(self, config):\n",
    "    # Shutdown on Ctrl+C\n",
    "    signal.signal(signal.SIGINT, self.shutdown) \n",
    "\n",
    "    # Create a TCP socket\n",
    "    self.serverSocket = socket.socket(socket.AF_INET, socket.SOCK_STREAM)\n",
    "\n",
    "    # Re-use the socket\n",
    "    self.serverSocket.setsockopt(socket.SOL_SOCKET, socket.SO_REUSEADDR, 1)\n",
    "    \n",
    "    # bind the socket to a public host, and a port   \n",
    "    self.serverSocket.bind((config['HOST_NAME'], config['BIND_PORT']))\n",
    "    \n",
    "    self.serverSocket.listen(10) # become a server socket\n",
    "    self.__clients = {}\n",
    "\n",
    "    while True:\n",
    "\n",
    "        # Establish the connection\n",
    "        (clientSocket, client_address) = self.serverSocket.accept() \n",
    "    \n",
    "        d = threading.Thread(name=self._getClientName(client_address), \n",
    "        target = self.proxy_thread, args=(clientSocket, client_address))\n",
    "        d.setDaemon(True)\n",
    "        d.start()\n",
    "\n",
    "    # get the request from browser\n",
    "    request = conn.recv(config['MAX_REQUEST_LEN']) \n",
    "\n",
    "    # parse the first line\n",
    "    first_line = request.split('\\n')[0]\n",
    "\n",
    "    # get url\n",
    "    url = first_line.split(' ')[1]\n",
    "\n",
    "    http_pos = url.find(\"://\") # find pos of ://\n",
    "    if (http_pos==-1):\n",
    "        temp = url\n",
    "    else:\n",
    "        temp = url[(http_pos+3):] # get the rest of url\n",
    "\n",
    "    port_pos = temp.find(\":\") # find the port pos (if any)\n",
    "\n",
    "    # find end of web server\n",
    "    webserver_pos = temp.find(\"/\")\n",
    "    if webserver_pos == -1:\n",
    "        webserver_pos = len(temp)\n",
    "    \n",
    "    webserver = \"\"\n",
    "    port = -1\n",
    "    if (port_pos==-1 or webserver_pos < port_pos): \n",
    "\n",
    "        # default port \n",
    "        port = 80 \n",
    "        webserver = temp[:webserver_pos] \n",
    "\n",
    "    else: # specific port \n",
    "        port = int((temp[(port_pos+1):])[:webserver_pos-port_pos-1])\n",
    "        webserver = temp[:port_pos] \n",
    "    \n",
    "    s = socket.socket(socket.AF_INET, socket.SOCK_STREAM) \n",
    "    s.settimeout(config['CONNECTION_TIMEOUT'])\n",
    "    s.connect((webserver, port))\n",
    "    s.sendall(request)\n",
    "\n",
    "    while 1:\n",
    "        # receive data from web server\n",
    "        data = s.recv(config['MAX_REQUEST_LEN'])\n",
    "\n",
    "        if (len(data) > 0):\n",
    "            conn.send(data) # send to browser/client\n",
    "        else:\n",
    "            break"
   ]
  },
  {
   "cell_type": "code",
   "execution_count": null,
   "metadata": {},
   "outputs": [],
   "source": []
  }
 ],
 "metadata": {
  "kernelspec": {
   "display_name": "Python 3",
   "language": "python",
   "name": "python3"
  },
  "language_info": {
   "codemirror_mode": {
    "name": "ipython",
    "version": 3
   },
   "file_extension": ".py",
   "mimetype": "text/x-python",
   "name": "python",
   "nbconvert_exporter": "python",
   "pygments_lexer": "ipython3",
   "version": "3.7.1"
  }
 },
 "nbformat": 4,
 "nbformat_minor": 2
}
